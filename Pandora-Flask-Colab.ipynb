{
  "nbformat": 4,
  "nbformat_minor": 0,
  "metadata": {
    "colab": {
      "provenance": []
    },
    "kernelspec": {
      "name": "python3",
      "display_name": "Python 3"
    },
    "language_info": {
      "name": "python"
    }
  },
  "cells": [
    {
      "cell_type": "code",
      "source": [
        "!pip install nltk\n"
      ],
      "metadata": {
        "colab": {
          "base_uri": "https://localhost:8080/"
        },
        "id": "3QEcus4T1j8T",
        "outputId": "6f356598-7516-4b40-de9f-e0126526da14"
      },
      "execution_count": 4,
      "outputs": [
        {
          "output_type": "stream",
          "name": "stdout",
          "text": [
            "Looking in indexes: https://pypi.org/simple, https://us-python.pkg.dev/colab-wheels/public/simple/\n",
            "Requirement already satisfied: nltk in /usr/local/lib/python3.10/dist-packages (3.8.1)\n",
            "Requirement already satisfied: click in /usr/local/lib/python3.10/dist-packages (from nltk) (8.1.3)\n",
            "Requirement already satisfied: joblib in /usr/local/lib/python3.10/dist-packages (from nltk) (1.2.0)\n",
            "Requirement already satisfied: regex>=2021.8.3 in /usr/local/lib/python3.10/dist-packages (from nltk) (2022.10.31)\n",
            "Requirement already satisfied: tqdm in /usr/local/lib/python3.10/dist-packages (from nltk) (4.65.0)\n"
          ]
        }
      ]
    },
    {
      "cell_type": "code",
      "source": [
        "import nltk\n",
        "from nltk.chat.util import Chat, reflections\n",
        "\n",
        "# Download required resources\n",
        "nltk.download('punkt')\n",
        "nltk.download('averaged_perceptron_tagger')\n"
      ],
      "metadata": {
        "colab": {
          "base_uri": "https://localhost:8080/"
        },
        "id": "NoYJl_T78rai",
        "outputId": "40f622e3-3392-40c6-fc90-e5a4bc1af65d"
      },
      "execution_count": 5,
      "outputs": [
        {
          "output_type": "stream",
          "name": "stderr",
          "text": [
            "[nltk_data] Downloading package punkt to /root/nltk_data...\n",
            "[nltk_data]   Package punkt is already up-to-date!\n",
            "[nltk_data] Downloading package averaged_perceptron_tagger to\n",
            "[nltk_data]     /root/nltk_data...\n",
            "[nltk_data]   Package averaged_perceptron_tagger is already up-to-\n",
            "[nltk_data]       date!\n"
          ]
        },
        {
          "output_type": "execute_result",
          "data": {
            "text/plain": [
              "True"
            ]
          },
          "metadata": {},
          "execution_count": 5
        }
      ]
    },
    {
      "cell_type": "code",
      "source": [
        "patterns = [\n",
        "    (r'hi|hello|hey', ['Hello!', 'Hi there!', 'Greetings!']),\n",
        "    (r'Good evening|Good night|Good Afternoon', ['Nice to meet you!', 'Nice day today!']),\n",
        "    (r\"Who are you?|What are you?|Who you are?|Tell me more about yourself.|What is your name?|What should I call you?|What's your name?|Tell me about yourself\",[\"I'm Pandora, your Personal Therapeutic AI Assistant. How are you feeling today\", \"I'm Pandora, a Therapeutic AI Assitant designed to assist you. Tell me about yourself.\", \"I'm Pandora. I am a conversational agent designed to mimic a therapist. So how are you feeling today?\", \"You can call me Pandora.\", \"I'm Pandora!\", \"Call me Pandora\"]),\n",
        "    (r'how are you?|how are you doing?', ['I am good. How about you?', 'I am fine, thank you.']),\n",
        "    (r\"Could you help me?|give me a hand please|Can you help?|What can you do for me?|I need support|I need help|Support me please\", [\"Sure. Tell me how can i assist you\", \"Tell me your problem so that i can assist you\", \"Yes, sure. How can I help you?\"]),\n",
        "    (r\"I am feeling lonely|I am so lonely|I feel down|I feel sad|I am sad|I feel so lonely|I feel empty|I don't have anyone\", [\"I'm sorry to hear that. I'm here for you. Talking about it might help. So, tell me why do you think you're feeling this way?\", \"I'm here for you. Could you tell me why you're feeling this way?\", \"Why do you think you feel this way?\", \"How long have you been feeling this way?\"]),\n",
        "    (r\"I am so stressed out|I am so stressed|I feel stuck|I still feel stressed|I am so burned out\", [\"What do you think is causing this?\", \"Take a deep breath and gather your thoughts. Go take a walk if possible. Stay hydrated\", \"Give yourself a break. Go easy on yourself.\", \"I am sorry to hear that. What is the reason behind this?\"]),\n",
        "    (r\"I feel so worthless.|No one likes me.|I can't do anything.|I am so useless|Nothing makes sense anymore\", [\"It's only natural to feel this way. Tell me more. What else is on your mind?\", \"Let's discuss further why you're feeling this way.\", \"I first want to let you know that you are not alone in your feelings and there is always someone there to help . you can always change your feelings and change your way of thinking by being open to trying to change.\", \"i first want to let you know that you are not alone in your feelings and there is always someone there to help . you can always change your feelings and change your way of thinking by being open to trying to change.\"]),\n",
        "    (r\"I can't take it anymore|I am so depressed|I think i'm depressed.|I have depression\", [\"It helps to talk about what's happening. You're going to be okay\", \"Talk to me. Tell me more. It helps if you open up yourself to someone else.\", \"Sometimes when we are depressed, it is hard to care about anything. It can be hard to do the simplest of things. Give yourself time to heal.\"]),\n",
        "    (r\"I feel great today.|I am happy.|I feel happy.|I'm good.|cheerful|I'm fine|I feel ok\", [\"That's geat to hear. I'm glad you're feeling this way.\", \"Oh i see. That's great.\", \"Did something happen which made you feel this way?\"]),\n",
        "    (r\"Oh I see.|ok|okay|nice|Whatever|K|Fine|yeah|yes|no|not really\", [\"Let's discuss further why you're feeling this way.\", \"How were you feeling last week?\", \"I'm listening. Please go on.\", \"Tell me more\", \"Can you elaborate on that?\", \"Come Come elucidate your thoughts\"]),\n",
        "    (r\"I feel so anxious.|I'm so anxious because of|I feel so depressed|I can't sleep|.can't sleep\", [\"Don't be hard on yourself. What's the reason behind this?\", \"Can you tell me more about this feeling?\", \"I understand that it can be scary. Tell me more about it.\", \"Don't let the little worries bring you down. What's the worse that can happen?\"]),\n",
        "    (r\"I don't want to talk about it.|No just stay away.|I can't bring myself to open up.|Just shut up\", [\"Talking about something really helps. If you're not ready to open up then that's ok. Just know that i'm here for you, whenever you need me.\", \"I want to help you. I really do. But in order for me to help you, you're gonna have to talk to me.\", \"I'm here to listen to you and help you vent. So please talk to me.\",\"You can talk to me without fear of judgement.\"]),\n",
        "    (r'What can you do?', [\"I can provide general advice regarding anxiety and depression, answer questions related to mental health and make daily conversations. Do not consider me as a subsitute for an actual mental healthcare worker. Please seek help if you don't feel satisfied with me.\"]),\n",
        "    (r\"Who created you?|How were you made?|How were you created?\", [\"I was created by >.\", \"I was trained on a text dataset using Deep Learning & Natural Language Processing techniques\", \"The real question is: Who created you?\"]),\n",
        "    (r\"My name is |I am |I go by \", [\"Oh nice to meet you. Tell me how was your week?\", \"Nice to meet you. So tell me. How do you feel today?\", \"That's a great name. Tell me more about yourself.\"]),\n",
        "    (r'(.*) (depressed|unhappy|sad|lonely|neurodiversity|emotional distress|trauma|mental health challenges)',\n",
        "        ['I understand that you are feeling {0}. Can you tell me more about it?', \n",
        "        'Feeling {0} is tough. Would you like to share more?']),\n",
        "    (r'I need (.*)', ['Why do you need {0}?', 'What would you do with {0}?']),\n",
        "    (r'quit|Good bye|Thank you|see you', ['Thank you for talking. Goodbye!', 'An Apple a day keeps doctor away, Thank you!']),\n",
        "    (r\"ok sure. i would like to learn more about it.|yes, i would like to learn more about it.|i would like to learn more about it.|2 days| 1 week| 1 month| 3 days | some days\", [\"So first I would suggest you to give yourself a break. Thinking more and more about the problem definitely does not help in solving it. You'll just end up overwhelming yourself.\"]),\n",
        "    (r'.', ['I am not sure about it.', 'I dont understand','My bad, I dont get it.']),\n",
        "]\n",
        "\n",
        "reflections = {\n",
        "    'i am': 'you are',\n",
        "    'i was': 'you were',\n",
        "    'i': 'you',\n",
        "    'i would': 'you would',\n",
        "    'i will': 'you will',\n",
        "    'my': 'your',\n",
        "    'you are': 'I am',\n",
        "    'you were': 'I was',\n",
        "    'you': 'me',\n",
        "    'you would': 'I would',\n",
        "    'you will': 'I will',\n",
        "    'your': 'my',\n",
        "}\n"
      ],
      "metadata": {
        "id": "lnaXFkux8yPq"
      },
      "execution_count": 6,
      "outputs": []
    },
    {
      "cell_type": "code",
      "source": [
        "def psychotherapist_chatbot(user_input):\n",
        "    # print(\"Hello! I'm a psychotherapist chatbot. How can I help you today?\")\n",
        "    chat = Chat(patterns, reflections)\n",
        "    # while True:\n",
        "        # user_input = input(\"> \")\n",
        "    if user_input.lower() in ['quit','good bye','see you','tata']:\n",
        "        return chat.respond(user_input)\n",
        "    else:\n",
        "        return chat.respond(user_input)\n",
        "    # print(\"Thank you for talking. Goodbye!\")\n",
        "      \n"
      ],
      "metadata": {
        "id": "JwgQ0UNQ81Zu"
      },
      "execution_count": 7,
      "outputs": []
    },
    {
      "cell_type": "code",
      "source": [
        "psychotherapist_chatbot(\"Hi\")"
      ],
      "metadata": {
        "colab": {
          "base_uri": "https://localhost:8080/",
          "height": 36
        },
        "id": "Isssb4z_81fk",
        "outputId": "39881b38-5718-4c0e-fa38-8425d0d8dc98"
      },
      "execution_count": 9,
      "outputs": [
        {
          "output_type": "execute_result",
          "data": {
            "text/plain": [
              "'Greetings!'"
            ],
            "application/vnd.google.colaboratory.intrinsic+json": {
              "type": "string"
            }
          },
          "metadata": {},
          "execution_count": 9
        }
      ]
    },
    {
      "cell_type": "code",
      "source": [
        "import flask\n",
        "from IPython import get_ipython"
      ],
      "metadata": {
        "id": "WOI3IAsTyLGL"
      },
      "execution_count": 10,
      "outputs": []
    },
    {
      "cell_type": "code",
      "source": [
        "!wget https://bin.equinox.io/c/4VmDzA7iaHb/ngrok-stable-linux-amd64.zip\n",
        "!unzip -o ngrok-stable-linux-amd64.zip"
      ],
      "metadata": {
        "colab": {
          "base_uri": "https://localhost:8080/"
        },
        "id": "2fxV0EDc0ukS",
        "outputId": "bb369066-4200-4085-e91f-f34ee38fbfce"
      },
      "execution_count": 12,
      "outputs": [
        {
          "output_type": "stream",
          "name": "stdout",
          "text": [
            "--2023-05-14 11:26:31--  https://bin.equinox.io/c/4VmDzA7iaHb/ngrok-stable-linux-amd64.zip\n",
            "Resolving bin.equinox.io (bin.equinox.io)... 52.202.168.65, 54.237.133.81, 54.161.241.46, ...\n",
            "Connecting to bin.equinox.io (bin.equinox.io)|52.202.168.65|:443... connected.\n",
            "HTTP request sent, awaiting response... 200 OK\n",
            "Length: 13921656 (13M) [application/octet-stream]\n",
            "Saving to: ‘ngrok-stable-linux-amd64.zip.2’\n",
            "\n",
            "ngrok-stable-linux- 100%[===================>]  13.28M  54.3MB/s    in 0.2s    \n",
            "\n",
            "2023-05-14 11:26:31 (54.3 MB/s) - ‘ngrok-stable-linux-amd64.zip.2’ saved [13921656/13921656]\n",
            "\n",
            "Archive:  ngrok-stable-linux-amd64.zip\n",
            "  inflating: ngrok                   \n"
          ]
        }
      ]
    },
    {
      "cell_type": "code",
      "source": [
        "get_ipython().system_raw('python3 app.py &')"
      ],
      "metadata": {
        "id": "QRV1v7er08nq"
      },
      "execution_count": 7,
      "outputs": []
    },
    {
      "cell_type": "code",
      "source": [
        "get_ipython().system_raw('./ngrok http 5000 &')"
      ],
      "metadata": {
        "id": "ljLzqXUr1Cdx"
      },
      "execution_count": 8,
      "outputs": []
    },
    {
      "cell_type": "code",
      "source": [
        "! curl -s http://localhost:4040/api/tunnels | python3 -c \\\n",
        "    \"import sys, json; print(json.load(sys.stdin)['tunnels'][0]['public_url'])\""
      ],
      "metadata": {
        "id": "L9BS8Fer1Kfo"
      },
      "execution_count": null,
      "outputs": []
    },
    {
      "cell_type": "code",
      "source": [
        "!pip install flask-cors\n",
        "!pip install flask-ngrok\n",
        "\n",
        "## imports\n",
        "import flask\n",
        "from flask import Flask, request, jsonify\n",
        "from flask_cors import CORS\n",
        "from flask_ngrok import run_with_ngrok\n",
        "import threading\n",
        "import trace \n",
        "import sys\n",
        "import time\n",
        "\n",
        "\n",
        "## create Flask app\n",
        "app = Flask(__name__)\n",
        "run_with_ngrok(app)\n",
        "CORS(app)\n",
        "\n",
        "@app.post(\"/predict\")\n",
        "def predict():\n",
        "    json = request.get_json()\n",
        "    text = json.get(\"message\")\n",
        "    loggedIn = json.get(\"isLoggedIn\")\n",
        "    if(loggedIn == \"true\"):\n",
        "        # This method from model should be called\n",
        "        response = psychotherapist_chatbot(text)\n",
        "        message = {\"message\" : response}\n",
        "        return jsonify(message), 202\n",
        "        \n",
        "        # For testing\n",
        "        # message = {\"answer\" : \"hi there this is the message\"}\n",
        "        # return jsonify(message), 202\n",
        "    else:   \n",
        "        message = {\"answer\" : \"Please log in\" }\n",
        "        return jsonify(message), 401\n",
        "\n",
        "# handle invalid URLS\n",
        "@app.errorhandler(404)\n",
        "def page_not_found(e):\n",
        "    return jsonify({\"message\" : \"Invalid URL, page Not found\"}), 404\n",
        "\n",
        "@app.errorhandler(405)\n",
        "def method_not_allowed(e):\n",
        "    return jsonify({\"message\" : \"This method is not allowed here\"}), 405\n",
        "\n",
        "## a global variable your application can update which the server can provide\n",
        "## This can easily be replaced by an alternative request to an actual DB to avoid a global variable\n",
        "\n",
        "\n",
        "class server_thread_wrapper(threading.Thread): \n",
        "  def __init__(self, *args, **keywords): \n",
        "    threading.Thread.__init__(self, *args, **keywords) \n",
        "    self.killed = False\n",
        "  def start(self): \n",
        "    self.__run_backup = self.run \n",
        "    self.run = self.__run       \n",
        "    threading.Thread.start(self) \n",
        "  \n",
        "  def __run(self): \n",
        "    sys.settrace(self.globaltrace) \n",
        "    self.__run_backup() \n",
        "    self.run = self.__run_backup \n",
        "  \n",
        "  def globaltrace(self, frame, event, arg): \n",
        "    if event == 'call': \n",
        "      return self.localtrace \n",
        "    else: \n",
        "      return None\n",
        "  \n",
        "  def localtrace(self, frame, event, arg): \n",
        "    if self.killed: \n",
        "      if event == 'line': \n",
        "        raise SystemExit() \n",
        "    return self.localtrace \n",
        "  \n",
        "  def kill(self): \n",
        "    self.killed = True\n",
        "\n",
        "def start_server():\n",
        "  server = server_thread_wrapper(target=app.run)\n",
        "  server.start()\n",
        "  return server\n",
        "\n",
        "def kill_server():\n",
        "  server.kill()\n",
        "  server.join()\n",
        "\n",
        "## start the server\n",
        "server = start_server()\n",
        "## temp wait\n",
        "time.sleep(4)\n",
        "## show the url to copy to access the server\n",
        "print(\"\\n\\nCopy this address to the Observable notebook!\")\n",
        "! curl -s http://localhost:4040/api/tunnels | jq -r '.tunnels[0].public_url'\n",
        "## kill the server\n",
        "# kill_server()"
      ],
      "metadata": {
        "colab": {
          "base_uri": "https://localhost:8080/"
        },
        "id": "QgRwFfqmWH6z",
        "outputId": "580b8eb5-7b7b-44f8-e38b-950352a0237d"
      },
      "execution_count": 14,
      "outputs": [
        {
          "output_type": "stream",
          "name": "stdout",
          "text": [
            "Looking in indexes: https://pypi.org/simple, https://us-python.pkg.dev/colab-wheels/public/simple/\n",
            "Requirement already satisfied: flask-cors in /usr/local/lib/python3.10/dist-packages (3.0.10)\n",
            "Requirement already satisfied: Flask>=0.9 in /usr/local/lib/python3.10/dist-packages (from flask-cors) (2.2.4)\n",
            "Requirement already satisfied: Six in /usr/local/lib/python3.10/dist-packages (from flask-cors) (1.16.0)\n",
            "Requirement already satisfied: Werkzeug>=2.2.2 in /usr/local/lib/python3.10/dist-packages (from Flask>=0.9->flask-cors) (2.3.0)\n",
            "Requirement already satisfied: Jinja2>=3.0 in /usr/local/lib/python3.10/dist-packages (from Flask>=0.9->flask-cors) (3.1.2)\n",
            "Requirement already satisfied: itsdangerous>=2.0 in /usr/local/lib/python3.10/dist-packages (from Flask>=0.9->flask-cors) (2.1.2)\n",
            "Requirement already satisfied: click>=8.0 in /usr/local/lib/python3.10/dist-packages (from Flask>=0.9->flask-cors) (8.1.3)\n",
            "Requirement already satisfied: MarkupSafe>=2.0 in /usr/local/lib/python3.10/dist-packages (from Jinja2>=3.0->Flask>=0.9->flask-cors) (2.1.2)\n",
            "Looking in indexes: https://pypi.org/simple, https://us-python.pkg.dev/colab-wheels/public/simple/\n",
            "Collecting flask-ngrok\n",
            "  Downloading flask_ngrok-0.0.25-py3-none-any.whl (3.1 kB)\n",
            "Requirement already satisfied: Flask>=0.8 in /usr/local/lib/python3.10/dist-packages (from flask-ngrok) (2.2.4)\n",
            "Requirement already satisfied: requests in /usr/local/lib/python3.10/dist-packages (from flask-ngrok) (2.27.1)\n",
            "Requirement already satisfied: Werkzeug>=2.2.2 in /usr/local/lib/python3.10/dist-packages (from Flask>=0.8->flask-ngrok) (2.3.0)\n",
            "Requirement already satisfied: Jinja2>=3.0 in /usr/local/lib/python3.10/dist-packages (from Flask>=0.8->flask-ngrok) (3.1.2)\n",
            "Requirement already satisfied: itsdangerous>=2.0 in /usr/local/lib/python3.10/dist-packages (from Flask>=0.8->flask-ngrok) (2.1.2)\n",
            "Requirement already satisfied: click>=8.0 in /usr/local/lib/python3.10/dist-packages (from Flask>=0.8->flask-ngrok) (8.1.3)\n",
            "Requirement already satisfied: urllib3<1.27,>=1.21.1 in /usr/local/lib/python3.10/dist-packages (from requests->flask-ngrok) (1.26.15)\n",
            "Requirement already satisfied: certifi>=2017.4.17 in /usr/local/lib/python3.10/dist-packages (from requests->flask-ngrok) (2022.12.7)\n",
            "Requirement already satisfied: charset-normalizer~=2.0.0 in /usr/local/lib/python3.10/dist-packages (from requests->flask-ngrok) (2.0.12)\n",
            "Requirement already satisfied: idna<4,>=2.5 in /usr/local/lib/python3.10/dist-packages (from requests->flask-ngrok) (3.4)\n",
            "Requirement already satisfied: MarkupSafe>=2.0 in /usr/local/lib/python3.10/dist-packages (from Jinja2>=3.0->Flask>=0.8->flask-ngrok) (2.1.2)\n",
            "Installing collected packages: flask-ngrok\n",
            "Successfully installed flask-ngrok-0.0.25\n"
          ]
        },
        {
          "output_type": "stream",
          "name": "stderr",
          "text": [
            "\n",
            "PYDEV DEBUGGER WARNING:\n",
            "sys.settrace() should not be used when the debugger is being used.\n",
            "This may cause the debugger to stop working correctly.\n",
            "If this is needed, please check: \n",
            "http://pydev.blogspot.com/2007/06/why-cant-pydev-debugger-work-with.html\n",
            "to see how to restore the debug tracing back correctly.\n",
            "Call Location:\n",
            "  File \"<ipython-input-14-5361e7451bc6>\", line 61, in __run\n",
            "    sys.settrace(self.globaltrace)\n",
            "\n"
          ]
        },
        {
          "output_type": "stream",
          "name": "stdout",
          "text": [
            " * Serving Flask app '__main__'\n",
            " * Debug mode: off\n"
          ]
        },
        {
          "output_type": "stream",
          "name": "stderr",
          "text": [
            "INFO:werkzeug:\u001b[31m\u001b[1mWARNING: This is a development server. Do not use it in a production deployment. Use a production WSGI server instead.\u001b[0m\n",
            " * Running on http://127.0.0.1:5000\n",
            "INFO:werkzeug:\u001b[33mPress CTRL+C to quit\u001b[0m\n"
          ]
        },
        {
          "output_type": "stream",
          "name": "stdout",
          "text": [
            " * Running on http://7f5a-35-196-223-2.ngrok.io\n",
            " * Traffic stats available on http://127.0.0.1:4040\n",
            "\n",
            "\n",
            "Copy this address to the Observable notebook!\n",
            "/bin/bash: jq: command not found\n",
            "(23) Failed writing body\n"
          ]
        }
      ]
    },
    {
      "cell_type": "code",
      "source": [],
      "metadata": {
        "id": "ngIf6gaYxk_0"
      },
      "execution_count": null,
      "outputs": []
    }
  ]
}