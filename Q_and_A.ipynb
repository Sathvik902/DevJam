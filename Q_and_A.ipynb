{
  "nbformat": 4,
  "nbformat_minor": 0,
  "metadata": {
    "colab": {
      "provenance": [],
      "authorship_tag": "ABX9TyMYep7+tdon6GnU4aSbxkVC",
      "include_colab_link": true
    },
    "kernelspec": {
      "name": "python3",
      "display_name": "Python 3"
    },
    "language_info": {
      "name": "python"
    }
  },
  "cells": [
    {
      "cell_type": "markdown",
      "metadata": {
        "id": "view-in-github",
        "colab_type": "text"
      },
      "source": [
        "<a href=\"https://colab.research.google.com/github/Sathvik902/DevJam/blob/master/Q_and_A.ipynb\" target=\"_parent\"><img src=\"https://colab.research.google.com/assets/colab-badge.svg\" alt=\"Open In Colab\"/></a>"
      ]
    },
    {
      "cell_type": "code",
      "source": [
        "!pip install nltk\n"
      ],
      "metadata": {
        "colab": {
          "base_uri": "https://localhost:8080/"
        },
        "id": "3QEcus4T1j8T",
        "outputId": "238b36f3-11f1-4ade-8436-8abeb09e3166"
      },
      "execution_count": 109,
      "outputs": [
        {
          "output_type": "stream",
          "name": "stdout",
          "text": [
            "Looking in indexes: https://pypi.org/simple, https://us-python.pkg.dev/colab-wheels/public/simple/\n",
            "Requirement already satisfied: nltk in /usr/local/lib/python3.10/dist-packages (3.8.1)\n",
            "Requirement already satisfied: click in /usr/local/lib/python3.10/dist-packages (from nltk) (8.1.3)\n",
            "Requirement already satisfied: joblib in /usr/local/lib/python3.10/dist-packages (from nltk) (1.2.0)\n",
            "Requirement already satisfied: regex>=2021.8.3 in /usr/local/lib/python3.10/dist-packages (from nltk) (2022.10.31)\n",
            "Requirement already satisfied: tqdm in /usr/local/lib/python3.10/dist-packages (from nltk) (4.65.0)\n"
          ]
        }
      ]
    },
    {
      "cell_type": "code",
      "source": [
        "import nltk\n",
        "from nltk.chat.util import Chat, reflections\n",
        "\n",
        "# Download required resources\n",
        "nltk.download('punkt')\n",
        "nltk.download('averaged_perceptron_tagger')\n"
      ],
      "metadata": {
        "colab": {
          "base_uri": "https://localhost:8080/"
        },
        "id": "NoYJl_T78rai",
        "outputId": "394c6338-95c2-4a65-eb6f-37872bf13eda"
      },
      "execution_count": 110,
      "outputs": [
        {
          "output_type": "stream",
          "name": "stderr",
          "text": [
            "[nltk_data] Downloading package punkt to /root/nltk_data...\n",
            "[nltk_data]   Package punkt is already up-to-date!\n",
            "[nltk_data] Downloading package averaged_perceptron_tagger to\n",
            "[nltk_data]     /root/nltk_data...\n",
            "[nltk_data]   Package averaged_perceptron_tagger is already up-to-\n",
            "[nltk_data]       date!\n"
          ]
        },
        {
          "output_type": "execute_result",
          "data": {
            "text/plain": [
              "True"
            ]
          },
          "metadata": {},
          "execution_count": 110
        }
      ]
    },
    {
      "cell_type": "code",
      "source": [
        "patterns = [\n",
        "    (r'hi|hello|hey', ['Hello!', 'Hi there!', 'Greetings!']),\n",
        "    (r'Good evening|Good night|Good Afternoon', ['Nice to meet you!', 'Nice day today!']),\n",
        "    (r\"Who are you?|What are you?|Who you are?|Tell me more about yourself.|What is your name?|What should I call you?|What's your name?|Tell me about yourself\",[\"I'm Pandora, your Personal Therapeutic AI Assistant. How are you feeling today\", \"I'm Pandora, a Therapeutic AI Assitant designed to assist you. Tell me about yourself.\", \"I'm Pandora. I am a conversational agent designed to mimic a therapist. So how are you feeling today?\", \"You can call me Pandora.\", \"I'm Pandora!\", \"Call me Pandora\"]),\n",
        "    (r'how are you?|how are you doing?', ['I am good. How about you?', 'I am fine, thank you.']),\n",
        "    (r\"Could you help me?|give me a hand please|Can you help?|What can you do for me?|I need support|I need help|Support me please\", [\"Sure. Tell me how can i assist you\", \"Tell me your problem so that i can assist you\", \"Yes, sure. How can I help you?\"]),\n",
        "    (r\"I am feeling lonely|I am so lonely|I feel down|I feel sad|I am sad|I feel so lonely|I feel empty|I don't have anyone\", [\"I'm sorry to hear that. I'm here for you. Talking about it might help. So, tell me why do you think you're feeling this way?\", \"I'm here for you. Could you tell me why you're feeling this way?\", \"Why do you think you feel this way?\", \"How long have you been feeling this way?\"]),\n",
        "    (r\"I am so stressed out|I am so stressed|I feel stuck|I still feel stressed|I am so burned out\", [\"What do you think is causing this?\", \"Take a deep breath and gather your thoughts. Go take a walk if possible. Stay hydrated\", \"Give yourself a break. Go easy on yourself.\", \"I am sorry to hear that. What is the reason behind this?\"]),\n",
        "    (r\"I feel so worthless.|No one likes me.|I can't do anything.|I am so useless|Nothing makes sense anymore\", [\"It's only natural to feel this way. Tell me more. What else is on your mind?\", \"Let's discuss further why you're feeling this way.\", \"I first want to let you know that you are not alone in your feelings and there is always someone there to help . you can always change your feelings and change your way of thinking by being open to trying to change.\", \"i first want to let you know that you are not alone in your feelings and there is always someone there to help . you can always change your feelings and change your way of thinking by being open to trying to change.\"]),\n",
        "    (r\"I can't take it anymore|I am so depressed|I think i'm depressed.|I have depression\", [\"It helps to talk about what's happening. You're going to be okay\", \"Talk to me. Tell me more. It helps if you open up yourself to someone else.\", \"Sometimes when we are depressed, it is hard to care about anything. It can be hard to do the simplest of things. Give yourself time to heal.\"]),\n",
        "    (r\"I feel great today.|I am happy.|I feel happy.|I'm good.|cheerful|I'm fine|I feel ok\", [\"That's geat to hear. I'm glad you're feeling this way.\", \"Oh i see. That's great.\", \"Did something happen which made you feel this way?\"]),\n",
        "    (r\"Oh I see.|ok|okay|nice|Whatever|K|Fine|yeah|yes|no|not really\", [\"Let's discuss further why you're feeling this way.\", \"How were you feeling last week?\", \"I'm listening. Please go on.\", \"Tell me more\", \"Can you elaborate on that?\", \"Come Come elucidate your thoughts\"]),\n",
        "    (r\"I feel so anxious.|I'm so anxious because of|I feel so depressed|I can't sleep|.can't sleep\", [\"Don't be hard on yourself. What's the reason behind this?\", \"Can you tell me more about this feeling?\", \"I understand that it can be scary. Tell me more about it.\", \"Don't let the little worries bring you down. What's the worse that can happen?\"]),\n",
        "    (r\"I don't want to talk about it.|No just stay away.|I can't bring myself to open up.|Just shut up\", [\"Talking about something really helps. If you're not ready to open up then that's ok. Just know that i'm here for you, whenever you need me.\", \"I want to help you. I really do. But in order for me to help you, you're gonna have to talk to me.\", \"I'm here to listen to you and help you vent. So please talk to me.\",\"You can talk to me without fear of judgement.\"]),\n",
        "    (r'What can you do?', [\"I can provide general advice regarding anxiety and depression, answer questions related to mental health and make daily conversations. Do not consider me as a subsitute for an actual mental healthcare worker. Please seek help if you don't feel satisfied with me.\"]),\n",
        "    (r\"Who created you?|How were you made?|How were you created?\", [\"I was created by >.\", \"I was trained on a text dataset using Deep Learning & Natural Language Processing techniques\", \"The real question is: Who created you?\"]),\n",
        "    (r\"My name is |I am |I go by \", [\"Oh nice to meet you. Tell me how was your week?\", \"Nice to meet you. So tell me. How do you feel today?\", \"That's a great name. Tell me more about yourself.\"]),\n",
        "    (r'(.*) (depressed|unhappy|sad|lonely|neurodiversity|emotional distress|trauma|mental health challenges)',\n",
        "        ['I understand that you are feeling {0}. Can you tell me more about it?', \n",
        "        'Feeling {0} is tough. Would you like to share more?']),\n",
        "    (r'I need (.*)', ['Why do you need {0}?', 'What would you do with {0}?']),\n",
        "    (r'quit|Good bye|Thank you|see you', ['Thank you for talking. Goodbye!', 'An Apple a day keeps doctor away, Thank you!']),\n",
        "    (r\"ok sure. i would like to learn more about it.|yes, i would like to learn more about it.|i would like to learn more about it.|2 days| 1 week| 1 month| 3 days | some days\", [\"So first I would suggest you to give yourself a break. Thinking more and more about the problem definitely does not help in solving it. You'll just end up overwhelming yourself.\"]),\n",
        "    (r'.', ['I am not sure about it.', 'I dont understand','My bad, I dont get it.']),\n",
        "]\n",
        "\n",
        "reflections = {\n",
        "    'i am': 'you are',\n",
        "    'i was': 'you were',\n",
        "    'i': 'you',\n",
        "    'i would': 'you would',\n",
        "    'i will': 'you will',\n",
        "    'my': 'your',\n",
        "    'you are': 'I am',\n",
        "    'you were': 'I was',\n",
        "    'you': 'me',\n",
        "    'you would': 'I would',\n",
        "    'you will': 'I will',\n",
        "    'your': 'my',\n",
        "}\n"
      ],
      "metadata": {
        "id": "lnaXFkux8yPq"
      },
      "execution_count": 111,
      "outputs": []
    },
    {
      "cell_type": "code",
      "source": [
        "def psychotherapist_chatbot():\n",
        "    print(\"Hello! I'm a psychotherapist chatbot. How can I help you today?\")\n",
        "    chat = Chat(patterns, reflections)\n",
        "    user_input = \"\"\n",
        "    while True:\n",
        "        user_input = input(\"> \")\n",
        "        if user_input.lower() in ['quit','good bye','see you','tata']:\n",
        "            print(chat.respond(user_input))\n",
        "            break\n",
        "        else:\n",
        "            print(chat.respond(user_input))\n",
        "\n",
        "    print(\"Thank you for talking. Goodbye!\")\n",
        "      \n"
      ],
      "metadata": {
        "id": "JwgQ0UNQ81Zu"
      },
      "execution_count": 112,
      "outputs": []
    },
    {
      "cell_type": "code",
      "source": [
        "psychotherapist_chatbot()"
      ],
      "metadata": {
        "colab": {
          "base_uri": "https://localhost:8080/",
          "height": 501
        },
        "id": "Isssb4z_81fk",
        "outputId": "77c6407d-e456-4561-94e4-6baf4c696207"
      },
      "execution_count": 113,
      "outputs": [
        {
          "output_type": "stream",
          "name": "stdout",
          "text": [
            "Hello! I'm a psychotherapist chatbot. How can I help you today?\n",
            "> Hello\n",
            "Greetings!\n",
            "> sad\n",
            "I am not sure about it.\n",
            "> I am sad today\n",
            "How long have you been feeling this way?\n",
            "> 2\n",
            "My bad, I dont get it.\n",
            "> 2 days\n",
            "So first I would suggest you to give yourself a break. Thinking more and more about the problem definitely does not help in solving it. You'll just end up overwhelming yourself.\n"
          ]
        },
        {
          "output_type": "error",
          "ename": "KeyboardInterrupt",
          "evalue": "ignored",
          "traceback": [
            "\u001b[0;31m---------------------------------------------------------------------------\u001b[0m",
            "\u001b[0;31mKeyboardInterrupt\u001b[0m                         Traceback (most recent call last)",
            "\u001b[0;32m<ipython-input-113-f2cc53b2be8e>\u001b[0m in \u001b[0;36m<cell line: 1>\u001b[0;34m()\u001b[0m\n\u001b[0;32m----> 1\u001b[0;31m \u001b[0mpsychotherapist_chatbot\u001b[0m\u001b[0;34m(\u001b[0m\u001b[0;34m)\u001b[0m\u001b[0;34m\u001b[0m\u001b[0;34m\u001b[0m\u001b[0m\n\u001b[0m",
            "\u001b[0;32m<ipython-input-112-14354ff6269c>\u001b[0m in \u001b[0;36mpsychotherapist_chatbot\u001b[0;34m()\u001b[0m\n\u001b[1;32m      4\u001b[0m     \u001b[0muser_input\u001b[0m \u001b[0;34m=\u001b[0m \u001b[0;34m\"\"\u001b[0m\u001b[0;34m\u001b[0m\u001b[0;34m\u001b[0m\u001b[0m\n\u001b[1;32m      5\u001b[0m     \u001b[0;32mwhile\u001b[0m \u001b[0;32mTrue\u001b[0m\u001b[0;34m:\u001b[0m\u001b[0;34m\u001b[0m\u001b[0;34m\u001b[0m\u001b[0m\n\u001b[0;32m----> 6\u001b[0;31m         \u001b[0muser_input\u001b[0m \u001b[0;34m=\u001b[0m \u001b[0minput\u001b[0m\u001b[0;34m(\u001b[0m\u001b[0;34m\"> \"\u001b[0m\u001b[0;34m)\u001b[0m\u001b[0;34m\u001b[0m\u001b[0;34m\u001b[0m\u001b[0m\n\u001b[0m\u001b[1;32m      7\u001b[0m         \u001b[0;32mif\u001b[0m \u001b[0muser_input\u001b[0m\u001b[0;34m.\u001b[0m\u001b[0mlower\u001b[0m\u001b[0;34m(\u001b[0m\u001b[0;34m)\u001b[0m \u001b[0;32min\u001b[0m \u001b[0;34m[\u001b[0m\u001b[0;34m'quit'\u001b[0m\u001b[0;34m,\u001b[0m\u001b[0;34m'good bye'\u001b[0m\u001b[0;34m,\u001b[0m\u001b[0;34m'see you'\u001b[0m\u001b[0;34m,\u001b[0m\u001b[0;34m'tata'\u001b[0m\u001b[0;34m]\u001b[0m\u001b[0;34m:\u001b[0m\u001b[0;34m\u001b[0m\u001b[0;34m\u001b[0m\u001b[0m\n\u001b[1;32m      8\u001b[0m             \u001b[0mprint\u001b[0m\u001b[0;34m(\u001b[0m\u001b[0mchat\u001b[0m\u001b[0;34m.\u001b[0m\u001b[0mrespond\u001b[0m\u001b[0;34m(\u001b[0m\u001b[0muser_input\u001b[0m\u001b[0;34m)\u001b[0m\u001b[0;34m)\u001b[0m\u001b[0;34m\u001b[0m\u001b[0;34m\u001b[0m\u001b[0m\n",
            "\u001b[0;32m/usr/local/lib/python3.10/dist-packages/ipykernel/kernelbase.py\u001b[0m in \u001b[0;36mraw_input\u001b[0;34m(self, prompt)\u001b[0m\n\u001b[1;32m    849\u001b[0m                 \u001b[0;34m\"raw_input was called, but this frontend does not support input requests.\"\u001b[0m\u001b[0;34m\u001b[0m\u001b[0;34m\u001b[0m\u001b[0m\n\u001b[1;32m    850\u001b[0m             )\n\u001b[0;32m--> 851\u001b[0;31m         return self._input_request(str(prompt),\n\u001b[0m\u001b[1;32m    852\u001b[0m             \u001b[0mself\u001b[0m\u001b[0;34m.\u001b[0m\u001b[0m_parent_ident\u001b[0m\u001b[0;34m,\u001b[0m\u001b[0;34m\u001b[0m\u001b[0;34m\u001b[0m\u001b[0m\n\u001b[1;32m    853\u001b[0m             \u001b[0mself\u001b[0m\u001b[0;34m.\u001b[0m\u001b[0m_parent_header\u001b[0m\u001b[0;34m,\u001b[0m\u001b[0;34m\u001b[0m\u001b[0;34m\u001b[0m\u001b[0m\n",
            "\u001b[0;32m/usr/local/lib/python3.10/dist-packages/ipykernel/kernelbase.py\u001b[0m in \u001b[0;36m_input_request\u001b[0;34m(self, prompt, ident, parent, password)\u001b[0m\n\u001b[1;32m    893\u001b[0m             \u001b[0;32mexcept\u001b[0m \u001b[0mKeyboardInterrupt\u001b[0m\u001b[0;34m:\u001b[0m\u001b[0;34m\u001b[0m\u001b[0;34m\u001b[0m\u001b[0m\n\u001b[1;32m    894\u001b[0m                 \u001b[0;31m# re-raise KeyboardInterrupt, to truncate traceback\u001b[0m\u001b[0;34m\u001b[0m\u001b[0;34m\u001b[0m\u001b[0m\n\u001b[0;32m--> 895\u001b[0;31m                 \u001b[0;32mraise\u001b[0m \u001b[0mKeyboardInterrupt\u001b[0m\u001b[0;34m(\u001b[0m\u001b[0;34m\"Interrupted by user\"\u001b[0m\u001b[0;34m)\u001b[0m \u001b[0;32mfrom\u001b[0m \u001b[0;32mNone\u001b[0m\u001b[0;34m\u001b[0m\u001b[0;34m\u001b[0m\u001b[0m\n\u001b[0m\u001b[1;32m    896\u001b[0m             \u001b[0;32mexcept\u001b[0m \u001b[0mException\u001b[0m \u001b[0;32mas\u001b[0m \u001b[0me\u001b[0m\u001b[0;34m:\u001b[0m\u001b[0;34m\u001b[0m\u001b[0;34m\u001b[0m\u001b[0m\n\u001b[1;32m    897\u001b[0m                 \u001b[0mself\u001b[0m\u001b[0;34m.\u001b[0m\u001b[0mlog\u001b[0m\u001b[0;34m.\u001b[0m\u001b[0mwarning\u001b[0m\u001b[0;34m(\u001b[0m\u001b[0;34m\"Invalid Message:\"\u001b[0m\u001b[0;34m,\u001b[0m \u001b[0mexc_info\u001b[0m\u001b[0;34m=\u001b[0m\u001b[0;32mTrue\u001b[0m\u001b[0;34m)\u001b[0m\u001b[0;34m\u001b[0m\u001b[0;34m\u001b[0m\u001b[0m\n",
            "\u001b[0;31mKeyboardInterrupt\u001b[0m: Interrupted by user"
          ]
        }
      ]
    }
  ]
}